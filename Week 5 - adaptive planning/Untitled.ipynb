{
 "cells": [
  {
   "cell_type": "code",
   "execution_count": 1,
   "metadata": {
    "collapsed": true
   },
   "outputs": [],
   "source": [
    "import ema_workbench"
   ]
  },
  {
   "cell_type": "code",
   "execution_count": 3,
   "metadata": {},
   "outputs": [
    {
     "data": {
      "text/plain": [
       "(array([ ( 0.02739766, -0.09366888, -0.09308524, -0.0736657 , 24,  1.09886197,  0.00297844, 'urbanizationDeurbanization', 'waasmodel', 'RfR Small Scale'),\n",
       "        ( 0.07354245,  0.07596776, -0.05266153, -0.06939862, 27,  1.03476203,  0.02597167, 'urbanizationDeurbanization', 'waasmodel', 'RfR Small Scale'),\n",
       "        ( 0.0776797 , -0.07398223,  0.05306665, -0.08372057, 22,  1.38652077, -0.01292866, 'urbanizationLargeAndFast', 'waasmodel', 'RfR Small Scale'),\n",
       "        ...,\n",
       "        ( 0.02979159, -0.08251394,  0.06106313,  0.04486799,  4,  1.56367104,  0.05689126, 'urbanizationLargeSteady', 'waasmodel', 'Alarm Education'),\n",
       "        (-0.02137778,  0.0207207 , -0.07871039,  0.07289535, 18,  1.37506905, -0.08890493, 'sustainableGrowth', 'waasmodel', 'Alarm Education'),\n",
       "        ( 0.04291323, -0.06199233, -0.00146446, -0.0468314 , 12,  1.18332864,  0.06645758, 'Deurbanization', 'waasmodel', 'Alarm Education')], \n",
       "       dtype=[('DamFunctTbl_multiplier', '<f8'), ('ShipTbl1', '<f8'), ('ShipTbl2', '<f8'), ('ShipTbl3', '<f8'), ('climate scenarios', '<i4'), ('collaboration', '<f8'), ('fragility dikes', '<f8'), ('land use scenarios', 'O'), ('model', 'O'), ('policy', 'O')]),\n",
       " {'Costs': array([[ 0.],\n",
       "         [ 0.],\n",
       "         [ 0.],\n",
       "         ..., \n",
       "         [ 0.],\n",
       "         [ 0.],\n",
       "         [ 0.]]), 'Flood damage (Milj. Euro)': array([[ 46541.],\n",
       "         [ 43166.],\n",
       "         [ 65178.],\n",
       "         ..., \n",
       "         [ 33887.],\n",
       "         [ 38190.],\n",
       "         [  7457.]]), 'Number of casualties': array([[  720.9819   ],\n",
       "         [  975.8965   ],\n",
       "         [ 1509.76748  ],\n",
       "         ..., \n",
       "         [ 1276.0438506],\n",
       "         [  379.303346 ],\n",
       "         [  598.6945447]])})"
      ]
     },
     "execution_count": 3,
     "metadata": {},
     "output_type": "execute_result"
    }
   ],
   "source": [
    "ema_workbench.load_results('data/all_policies.tar.gz')"
   ]
  },
  {
   "cell_type": "code",
   "execution_count": 4,
   "metadata": {
    "collapsed": true
   },
   "outputs": [],
   "source": [
    "experiments, results = _"
   ]
  },
  {
   "cell_type": "code",
   "execution_count": 5,
   "metadata": {},
   "outputs": [
    {
     "name": "stdout",
     "output_type": "stream",
     "text": [
      "(10500, 1)\n",
      "(10500, 1)\n",
      "(10500, 1)\n"
     ]
    }
   ],
   "source": [
    "for key, value in results.items():\n",
    "    print(value.shape)"
   ]
  },
  {
   "cell_type": "code",
   "execution_count": null,
   "metadata": {
    "collapsed": true
   },
   "outputs": [],
   "source": []
  }
 ],
 "metadata": {
  "anaconda-cloud": {},
  "kernelspec": {
   "display_name": "Python [default]",
   "language": "python",
   "name": "python3"
  },
  "language_info": {
   "codemirror_mode": {
    "name": "ipython",
    "version": 3
   },
   "file_extension": ".py",
   "mimetype": "text/x-python",
   "name": "python",
   "nbconvert_exporter": "python",
   "pygments_lexer": "ipython3",
   "version": "3.5.3"
  },
  "latex_envs": {
   "LaTeX_envs_menu_present": true,
   "autocomplete": true,
   "bibliofile": "biblio.bib",
   "cite_by": "apalike",
   "current_citInitial": 1,
   "eqLabelWithNumbers": true,
   "eqNumInitial": 1,
   "hotkeys": {
    "equation": "Ctrl-E",
    "itemize": "Ctrl-I"
   },
   "labels_anchors": false,
   "latex_user_defs": false,
   "report_style_numbering": false,
   "user_envs_cfg": false
  }
 },
 "nbformat": 4,
 "nbformat_minor": 2
}
